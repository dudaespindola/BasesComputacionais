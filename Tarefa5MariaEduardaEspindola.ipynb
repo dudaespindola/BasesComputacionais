{
  "nbformat": 4,
  "nbformat_minor": 0,
  "metadata": {
    "colab": {
      "provenance": [],
      "collapsed_sections": [],
      "authorship_tag": "ABX9TyNHfUNZ9rN/Zd1f1kkpgdnJ",
      "include_colab_link": true
    },
    "kernelspec": {
      "name": "python3",
      "display_name": "Python 3"
    },
    "language_info": {
      "name": "python"
    }
  },
  "cells": [
    {
      "cell_type": "markdown",
      "metadata": {
        "id": "view-in-github",
        "colab_type": "text"
      },
      "source": [
        "<a href=\"https://colab.research.google.com/github/dudaespindola/BasesComputacionais/blob/master/Tarefa5MariaEduardaEspindola.ipynb\" target=\"_parent\"><img src=\"https://colab.research.google.com/assets/colab-badge.svg\" alt=\"Open In Colab\"/></a>"
      ]
    },
    {
      "cell_type": "code",
      "execution_count": 8,
      "metadata": {
        "colab": {
          "base_uri": "https://localhost:8080/",
          "height": 313
        },
        "id": "bi6M69juDQGO",
        "outputId": "f253ece2-f7b6-403a-aff8-d7b0d7a3a4b4"
      },
      "outputs": [
        {
          "output_type": "display_data",
          "data": {
            "text/plain": [
              "<Figure size 432x288 with 1 Axes>"
            ],
            "image/png": "[encoded data removed]"
          },
          "metadata": {
            "needs_background": "light"
          }
        },
        {
          "output_type": "stream",
          "name": "stdout",
          "text": [
            "b) altura máxima atingida pela bola 4.0 metros\n"
          ]
        }
      ],
      "source": [
        "import numpy as np\n",
        "import matplotlib.pyplot as plt\n",
        "\n",
        "t = np.arange(0, 5, 0.1)\n",
        "h = -t**2 + 4*t\n",
        "\n",
        "plt.figure()\n",
        "plt.title('a) uma bola lançada')\n",
        "plt.xlabel('tempo (s)')\n",
        "plt.ylabel('altura (m)')\n",
        "plt.plot(t, h, color = 'orange')\n",
        "plt.show()\n",
        "\n",
        "print('b) altura máxima atingida pela bola ' + str(h.max()) + ' metros')\n",
        "\n",
        "\n",
        "\n",
        "\n"
      ]
    }
  ]
}